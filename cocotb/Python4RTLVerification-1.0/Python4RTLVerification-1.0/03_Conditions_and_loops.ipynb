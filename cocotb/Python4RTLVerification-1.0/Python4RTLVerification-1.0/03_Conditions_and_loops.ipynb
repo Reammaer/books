{
 "cells": [
  {
   "cell_type": "markdown",
   "metadata": {},
   "source": [
    "# Conditions and loops\n",
    "## `if` statements"
   ]
  },
  {
   "cell_type": "code",
   "execution_count": 1,
   "metadata": {},
   "outputs": [
    {
     "name": "stdout",
     "output_type": "stream",
     "text": [
      "Hey, you're not Danny.\n"
     ]
    }
   ],
   "source": [
    "# Figure 1: A Python if statement\n",
    "\n",
    "name = \"Roy\"\n",
    "if name != \"Danny\":\n",
    "    print(\"Hey, you're not Danny.\")"
   ]
  },
  {
   "cell_type": "code",
   "execution_count": 2,
   "metadata": {},
   "outputs": [
    {
     "name": "stdout",
     "output_type": "stream",
     "text": [
      "Hello, Danny!\n"
     ]
    }
   ],
   "source": [
    "# Figure 2: The else statement\n",
    "\n",
    "name=\"Danny\"\n",
    "if name != \"Danny\":\n",
    "    print(\"Hey, you're not Danny.\")\n",
    "else:\n",
    "    print(\"Hello, Danny!\")"
   ]
  },
  {
   "cell_type": "markdown",
   "metadata": {},
   "source": [
    "### `elif` replaces case and switch"
   ]
  },
  {
   "cell_type": "code",
   "execution_count": 7,
   "metadata": {},
   "outputs": [
    {
     "name": "stdout",
     "output_type": "stream",
     "text": [
      "Illegal Operation: divide\n"
     ]
    }
   ],
   "source": [
    "# Figure 3: Using elif as a switch\n",
    "\n",
    "A = B = 5\n",
    "operation = \"divide\"\n",
    "if operation == \"add\":\n",
    "    print(\"A + B =\", A + B)\n",
    "elif operation == \"subtract\":\n",
    "    print(\"A - B =\", A - B)\n",
    "elif operation == \"multiply\":\n",
    "    print(\"A * B = \", A * B)\n",
    "else:\n",
    "    print(\"Illegal Operation:\", operation)"
   ]
  },
  {
   "cell_type": "markdown",
   "metadata": {},
   "source": [
    "## Block comments and indenting"
   ]
  },
  {
   "cell_type": "code",
   "execution_count": 1,
   "metadata": {},
   "outputs": [
    {
     "name": "stdout",
     "output_type": "stream",
     "text": [
      "Hello, Danny!\n"
     ]
    }
   ],
   "source": [
    "# Figure 4: Indented block comments\n",
    "\n",
    "name = \"Danny\"\n",
    "if name != \"Danny\":\n",
    "    \"\"\"\n",
    "    This is the code\n",
    "    we run if this isn't Danny\n",
    "    \"\"\"\n",
    "    print(\"Hey, you're not Danny.\")\n",
    "else:\n",
    "    print(\"Hello, Danny!\") "
   ]
  },
  {
   "cell_type": "markdown",
   "metadata": {},
   "source": [
    "## Conditional assignment"
   ]
  },
  {
   "cell_type": "code",
   "execution_count": 1,
   "metadata": {},
   "outputs": [
    {
     "name": "stdout",
     "output_type": "stream",
     "text": [
      "five_val\n"
     ]
    }
   ],
   "source": [
    "# Figure 6: Ternary operations in Python\n",
    "\n",
    "aa = 5\n",
    "message = \"five_val\" if aa == 5 else \"other_val\"\n",
    "print(message)"
   ]
  },
  {
   "cell_type": "markdown",
   "metadata": {},
   "source": [
    "## `while` loops"
   ]
  },
  {
   "cell_type": "code",
   "execution_count": 6,
   "metadata": {},
   "outputs": [
    {
     "name": "stdout",
     "output_type": "stream",
     "text": [
      "0 1 2 3 4 5 6 7 8 9 10 11 12 13 "
     ]
    }
   ],
   "source": [
    "# Figure 7: A while loop in action\n",
    "\n",
    "\n",
    "nn = 0\n",
    "while nn <= 13:\n",
    "    print(nn, end=\" \")\n",
    "    nn += 1"
   ]
  },
  {
   "cell_type": "markdown",
   "metadata": {},
   "source": [
    "### The continue statement"
   ]
  },
  {
   "cell_type": "code",
   "execution_count": 5,
   "metadata": {},
   "outputs": [
    {
     "name": "stdout",
     "output_type": "stream",
     "text": [
      "1 3 5 7 9 11 13 "
     ]
    }
   ],
   "source": [
    "# Figure 8: continue jumps back to the top\n",
    "\n",
    "nn = 0\n",
    "while nn <= 13:\n",
    "    nn += 1\n",
    "    if (nn % 2) == 0:\n",
    "        continue\n",
    "    print(nn, end=\" \")"
   ]
  },
  {
   "cell_type": "markdown",
   "metadata": {},
   "source": [
    "### The break statement"
   ]
  },
  {
   "cell_type": "code",
   "execution_count": 8,
   "metadata": {},
   "outputs": [
    {
     "name": "stdout",
     "output_type": "stream",
     "text": [
      "0 1 2 3 4 5 6 7 8 9 10 11 12 13 "
     ]
    }
   ],
   "source": [
    "# Figure 9: Breaking out of a loop\n",
    "\n",
    "nn = 0\n",
    "while True:\n",
    "    print(nn, end=\" \")\n",
    "    nn += 1\n",
    "    if nn == 14:\n",
    "        break"
   ]
  }
 ],
 "metadata": {
  "kernelspec": {
   "display_name": "Python 3 (ipykernel)",
   "language": "python",
   "name": "python3"
  },
  "language_info": {
   "codemirror_mode": {
    "name": "ipython",
    "version": 3
   },
   "file_extension": ".py",
   "mimetype": "text/x-python",
   "name": "python",
   "nbconvert_exporter": "python",
   "pygments_lexer": "ipython3",
   "version": "3.8.12"
  }
 },
 "nbformat": 4,
 "nbformat_minor": 4
}
