{
 "cells": [
  {
   "cell_type": "markdown",
   "metadata": {},
   "source": [
    "# Lists\n",
    "\n",
    "An ordered list."
   ]
  },
  {
   "cell_type": "markdown",
   "metadata": {},
   "source": [
    "## Three ways to create lists"
   ]
  },
  {
   "cell_type": "code",
   "execution_count": 1,
   "metadata": {
    "scrolled": true
   },
   "outputs": [
    {
     "name": "stdout",
     "output_type": "stream",
     "text": [
      "List within a list: ['a', 3, ['x', 'y']]\n"
     ]
    }
   ],
   "source": [
    "# Figure 1: Creating a list containing a list\n",
    "\n",
    "LL = ['x','y'] # create a list\n",
    "mylist = ['a',3,LL] # put it into another list\n",
    "print(\"List within a list:\", mylist)"
   ]
  },
  {
   "cell_type": "code",
   "execution_count": 1,
   "metadata": {},
   "outputs": [
    {
     "name": "stdout",
     "output_type": "stream",
     "text": [
      "empty: []\n",
      "one_to_four: [1, 2, 3, 4]\n"
     ]
    }
   ],
   "source": [
    "# Figure 2: Using the list() constructor\n",
    "\n",
    "empty = list()\n",
    "one_to_four = list(range(1,5))\n",
    "print(\"empty:\", empty)\n",
    "print(\"one_to_four:\", one_to_four)      "
   ]
  },
  {
   "cell_type": "markdown",
   "metadata": {},
   "source": [
    "### List Comprehensions"
   ]
  },
  {
   "cell_type": "code",
   "execution_count": 2,
   "metadata": {},
   "outputs": [
    {
     "name": "stdout",
     "output_type": "stream",
     "text": [
      "even squares [0, 4, 16, 36, 64, 100]\n"
     ]
    }
   ],
   "source": [
    "# Figure 3: Creating a list using a for loop\n",
    "\n",
    "even_squares =  []\n",
    "for nn in range(11):\n",
    "    if nn % 2 == 0:\n",
    "        even_squares.append(nn**2)\n",
    "print(\"even squares\", even_squares)"
   ]
  },
  {
   "cell_type": "code",
   "execution_count": 3,
   "metadata": {},
   "outputs": [
    {
     "name": "stdout",
     "output_type": "stream",
     "text": [
      "even squares [0, 4, 16, 36, 64, 100]\n"
     ]
    }
   ],
   "source": [
    "# Figure 4: Replace the for loop using list comprehension\n",
    "\n",
    "even_squares = [nn**2 for nn in range(11) if nn % 2 == 0]\n",
    "print(\"even squares\", even_squares)"
   ]
  },
  {
   "cell_type": "code",
   "execution_count": 4,
   "metadata": {},
   "outputs": [
    {
     "name": "stdout",
     "output_type": "stream",
     "text": [
      "even squares [0, 4, 16, 36, 64, 100]\n"
     ]
    }
   ],
   "source": [
    "# Figure 5: Multiple lines for readability\n",
    "\n",
    "even_squares = [nn**2 \n",
    "                for nn \n",
    "                in range(11) \n",
    "                if nn % 2 == 0]\n",
    "print(\"even squares\", even_squares)"
   ]
  },
  {
   "cell_type": "markdown",
   "metadata": {},
   "source": [
    "## Sorting a list using a method"
   ]
  },
  {
   "cell_type": "code",
   "execution_count": 1,
   "metadata": {},
   "outputs": [
    {
     "name": "stdout",
     "output_type": "stream",
     "text": [
      "       pi chars: ['3', '.', '1', '4', '1', '5', '9', '2', '6']\n",
      "sorted pi chars: ['.', '1', '1', '2', '3', '4', '5', '6', '9']\n"
     ]
    }
   ],
   "source": [
    "# Figure 6: Sorting a list in place\n",
    "\n",
    "pi_list = list(\"3.1415926\")\n",
    "print(\"       pi chars:\", pi_list)\n",
    "pi_list.sort()\n",
    "print(\"sorted pi chars:\", pi_list)"
   ]
  },
  {
   "cell_type": "code",
   "execution_count": 14,
   "metadata": {},
   "outputs": [
    {
     "name": "stdout",
     "output_type": "stream",
     "text": [
      "Badly sorted    : ['Hulk', 'Ironman', 'antman']\n"
     ]
    }
   ],
   "source": [
    "# Figure 7: Badly-sorted Avengers\n",
    "\n",
    "avengers = [\"antman\", \"Hulk\", \"Ironman\"]\n",
    "avengers.sort()\n",
    "print(\"Badly sorted    :\", avengers)"
   ]
  },
  {
   "cell_type": "code",
   "execution_count": 3,
   "metadata": {},
   "outputs": [
    {
     "name": "stdout",
     "output_type": "stream",
     "text": [
      "Correctly sorted: ['antman', 'Hulk', 'Ironman']\n"
     ]
    }
   ],
   "source": [
    "# Figure 8: Sorting correctly using a key function\n",
    "\n",
    "avengers = [\"antman\", \"Hulk\", \"Ironman\"]\n",
    "avengers.sort(key=str.casefold)\n",
    "print(\"Correctly sorted:\", avengers)"
   ]
  },
  {
   "cell_type": "markdown",
   "metadata": {},
   "source": [
    "## Sorting a list using a function"
   ]
  },
  {
   "cell_type": "code",
   "execution_count": 4,
   "metadata": {},
   "outputs": [
    {
     "name": "stdout",
     "output_type": "stream",
     "text": [
      "Correctly sorted: ['antman', 'Black Widow', 'Hulk']\n"
     ]
    }
   ],
   "source": [
    "# Figure 9: Creating a new sorted list using the sorted() function\n",
    "\n",
    "avengers = [\"antman\", \"Hulk\", \"Black Widow\"]\n",
    "sorted_avengers = sorted(avengers, key=str.casefold)\n",
    "print(\"Correctly sorted:\", sorted_avengers)"
   ]
  },
  {
   "cell_type": "code",
   "execution_count": 3,
   "metadata": {},
   "outputs": [
    {
     "name": "stdout",
     "output_type": "stream",
     "text": [
      "sorted_list: ['B', 'f', 'n', 'o', 'o', 'r', 'w', 'x']\n"
     ]
    }
   ],
   "source": [
    "# Figure 10: Passing a key to sorted()\n",
    "\n",
    "ss = \"Brownfox\"\n",
    "sorted_list = sorted(ss, key=str.casefold)\n",
    "print(\"sorted_list:\",sorted_list)"
   ]
  },
  {
   "cell_type": "code",
   "execution_count": null,
   "metadata": {},
   "outputs": [],
   "source": []
  }
 ],
 "metadata": {
  "kernelspec": {
   "display_name": "Python 3 (ipykernel)",
   "language": "python",
   "name": "python3"
  },
  "language_info": {
   "codemirror_mode": {
    "name": "ipython",
    "version": 3
   },
   "file_extension": ".py",
   "mimetype": "text/x-python",
   "name": "python",
   "nbconvert_exporter": "python",
   "pygments_lexer": "ipython3",
   "version": "3.8.12"
  }
 },
 "nbformat": 4,
 "nbformat_minor": 4
}
