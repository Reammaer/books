{
 "cells": [
  {
   "cell_type": "markdown",
   "metadata": {},
   "source": [
    "# Sets"
   ]
  },
  {
   "cell_type": "markdown",
   "metadata": {},
   "source": [
    "## Creating Sets"
   ]
  },
  {
   "cell_type": "markdown",
   "metadata": {},
   "source": [
    "### 1. Call the constructors"
   ]
  },
  {
   "cell_type": "code",
   "execution_count": 1,
   "metadata": {},
   "outputs": [
    {
     "name": "stdout",
     "output_type": "stream",
     "text": [
      "digit_set: frozenset({1, 2, 3, 4, 5, 6, 9})\n"
     ]
    }
   ],
   "source": [
    "# Figure 1: Creating a frozenset from a tuple\n",
    "\n",
    "digits = (3,1,4,1,5,9,2,6)\n",
    "digit_set = frozenset(digits)\n",
    "print(f\"digit_set: {digit_set}\")"
   ]
  },
  {
   "cell_type": "markdown",
   "metadata": {},
   "source": [
    "### 2. Use curly braces"
   ]
  },
  {
   "cell_type": "code",
   "execution_count": 2,
   "metadata": {},
   "outputs": [
    {
     "name": "stdout",
     "output_type": "stream",
     "text": [
      "inner_planets: {'Venus', 'Earth', 'Mars', 'Mercury'}\n"
     ]
    }
   ],
   "source": [
    "# Figure 2: Creating a set using curly braces\n",
    "\n",
    "inner_planets = {\"Mercury\",\"Venus\", \"Earth\", \"Mars\"}\n",
    "print(\"inner_planets:\", inner_planets)"
   ]
  },
  {
   "cell_type": "markdown",
   "metadata": {},
   "source": [
    "### 3. Use set comprehension"
   ]
  },
  {
   "cell_type": "code",
   "execution_count": 3,
   "metadata": {},
   "outputs": [
    {
     "name": "stdout",
     "output_type": "stream",
     "text": [
      "first_squares: {1, 4, 9, 16, 25}\n"
     ]
    }
   ],
   "source": [
    "# Figure 3: Using a set comprehension\n",
    "\n",
    "first_squares = {nn**2 for nn in range(1,6)}\n",
    "print(f\"first_squares: {first_squares}\")"
   ]
  },
  {
   "cell_type": "markdown",
   "metadata": {},
   "source": [
    "## Set Operations"
   ]
  },
  {
   "cell_type": "markdown",
   "metadata": {},
   "source": [
    "### Checking Set Memberships"
   ]
  },
  {
   "cell_type": "code",
   "execution_count": 4,
   "metadata": {},
   "outputs": [
    {
     "name": "stdout",
     "output_type": "stream",
     "text": [
      "div is legal: False\n",
      "and is legal: True\n"
     ]
    }
   ],
   "source": [
    "# Figure 4: Checking set membership\n",
    "\n",
    "legal_ops = {\"add\", \"and\", \"mul\", \"xor\"}\n",
    "print(\"div is legal:\", \"div\" in legal_ops)\n",
    "print(\"and is legal:\", \"and\" in legal_ops)"
   ]
  },
  {
   "cell_type": "code",
   "execution_count": 5,
   "metadata": {},
   "outputs": [
    {
     "name": "stdout",
     "output_type": "stream",
     "text": [
      "You cannot div: True\n"
     ]
    }
   ],
   "source": [
    "# Figure 5: Checking an element is not in a set \n",
    "\n",
    "legal_ops = {\"add\", \"and\", \"mul\", \"xor\"}\n",
    "print(\"You cannot div:\", \"div\" not in legal_ops)"
   ]
  },
  {
   "cell_type": "markdown",
   "metadata": {},
   "source": [
    "### Checking for overlap"
   ]
  },
  {
   "cell_type": "code",
   "execution_count": 20,
   "metadata": {
    "scrolled": true
   },
   "outputs": [
    {
     "name": "stdout",
     "output_type": "stream",
     "text": [
      "There are no teams both cities support:  True\n"
     ]
    }
   ],
   "source": [
    "# Figure 6: Checking that sets are disjoint\n",
    "\n",
    "boston={\"Red Sox\", \"Bruins\", \"Celtics\", \"Patriots\"}\n",
    "newyork={\"Yankees\", \"Rangers\", \"Knicks\", \"Jets\"}\n",
    "print(\"There are no teams both cities support: \", boston.isdisjoint(newyork))"
   ]
  },
  {
   "cell_type": "markdown",
   "metadata": {},
   "source": [
    "`issubset()`"
   ]
  },
  {
   "cell_type": "markdown",
   "metadata": {},
   "source": [
    "## Removing Duplicates"
   ]
  },
  {
   "cell_type": "code",
   "execution_count": 6,
   "metadata": {},
   "outputs": [
    {
     "name": "stdout",
     "output_type": "stream",
     "text": [
      "Birds reported   :  ['Robin', 'Eagle', 'Blue Jay', 'Sparrow', 'Eagle', 'Crow']\n",
      "Unique birds seen:  ['Blue Jay', 'Crow', 'Eagle', 'Sparrow', 'Robin']\n"
     ]
    }
   ],
   "source": [
    "# Figure 10: Removing list duplicates using a set\n",
    "\n",
    "birds_seen_1 = [\"Robin\", \"Eagle\", \"Blue Jay\"]\n",
    "birds_seen_2 = [\"Sparrow\", \"Eagle\", \"Crow\"]\n",
    "all_birds_seen = birds_seen_1 + birds_seen_2\n",
    "print(\"Birds reported   : \", all_birds_seen)\n",
    "\n",
    "# Convert to set and back to remove duplicates\n",
    "all_birds_seen = list(set(all_birds_seen))\n",
    "print(\"Unique birds seen: \", all_birds_seen)"
   ]
  },
  {
   "cell_type": "code",
   "execution_count": 8,
   "metadata": {},
   "outputs": [
    {
     "name": "stdout",
     "output_type": "stream",
     "text": [
      "Birds reported   :  ['Robin', 'Eagle', 'Blue Jay', 'Sparrow', 'Eagle', 'Crow']\n",
      "Unique birds seen:  ['Sparrow', 'Robin', 'Eagle', 'Crow', 'Blue Jay']\n"
     ]
    }
   ],
   "source": [
    "birds_seen_1 = [\"Robin\", \"Eagle\", \"Blue Jay\"]\n",
    "birds_seen_2 = [\"Sparrow\", \"Eagle\", \"Crow\"]\n",
    "all_birds_seen = birds_seen_1 + birds_seen_2\n",
    "print(\"Birds reported   : \", all_birds_seen)\n",
    "\n",
    "# Convert to set and back to remove duplicates\n",
    "all_birds_seen = list(set(all_birds_seen))\n",
    "print(\"Unique birds seen: \", all_birds_seen)"
   ]
  },
  {
   "cell_type": "code",
   "execution_count": null,
   "metadata": {},
   "outputs": [],
   "source": []
  }
 ],
 "metadata": {
  "kernelspec": {
   "display_name": "Python 3 (ipykernel)",
   "language": "python",
   "name": "python3"
  },
  "language_info": {
   "codemirror_mode": {
    "name": "ipython",
    "version": 3
   },
   "file_extension": ".py",
   "mimetype": "text/x-python",
   "name": "python",
   "nbconvert_exporter": "python",
   "pygments_lexer": "ipython3",
   "version": "3.8.12"
  }
 },
 "nbformat": 4,
 "nbformat_minor": 4
}
