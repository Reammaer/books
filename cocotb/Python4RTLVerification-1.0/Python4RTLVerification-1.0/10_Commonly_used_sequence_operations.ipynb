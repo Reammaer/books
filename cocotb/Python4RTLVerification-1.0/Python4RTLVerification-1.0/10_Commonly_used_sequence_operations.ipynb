{
 "cells": [
  {
   "cell_type": "markdown",
   "metadata": {},
   "source": [
    "# Common sequence operations"
   ]
  },
  {
   "cell_type": "markdown",
   "metadata": {},
   "source": [
    "## Checking for membership"
   ]
  },
  {
   "cell_type": "code",
   "execution_count": 1,
   "metadata": {},
   "outputs": [
    {
     "name": "stdout",
     "output_type": "stream",
     "text": [
      "5 in list: True\n",
      "five not in list: True\n"
     ]
    }
   ],
   "source": [
    "# Figure 1: Using the \"in\" operator\n",
    "\n",
    "numbs = [1, 2, \"three\", 'four', 5]\n",
    "print(\"5 in list:\", 5 in numbs)\n",
    "print(\"five not in list:\",\"five\" not in numbs)"
   ]
  },
  {
   "cell_type": "markdown",
   "metadata": {},
   "source": [
    "## Find the number of items in a sequence"
   ]
  },
  {
   "cell_type": "code",
   "execution_count": 2,
   "metadata": {},
   "outputs": [
    {
     "name": "stdout",
     "output_type": "stream",
     "text": [
      "How many primary colors? 3\n"
     ]
    }
   ],
   "source": [
    "# Figure 2: The len() function\n",
    "\n",
    "primary_colors=('red', 'yellow', 'blue')\n",
    "print(\"How many primary colors?\",len(primary_colors))"
   ]
  },
  {
   "cell_type": "markdown",
   "metadata": {},
   "source": [
    "## Concatenating sequences"
   ]
  },
  {
   "cell_type": "code",
   "execution_count": 3,
   "metadata": {},
   "outputs": [
    {
     "name": "stdout",
     "output_type": "stream",
     "text": [
      "pets: cats and dogs\n",
      "digits: (0, 1, 2, 3)\n"
     ]
    }
   ],
   "source": [
    "# Figure 3: Concatenating sequences using +\n",
    "\n",
    "pets = \"cats \" + \"and\" + \" dogs\"\n",
    "digits = (0,1) + (2,3)\n",
    "print(\"pets:\", pets)\n",
    "print(\"digits:\", digits)"
   ]
  },
  {
   "cell_type": "markdown",
   "metadata": {},
   "source": [
    "## Repeating sequencs"
   ]
  },
  {
   "cell_type": "code",
   "execution_count": 4,
   "metadata": {},
   "outputs": [
    {
     "name": "stdout",
     "output_type": "stream",
     "text": [
      "horiz_bar ---------------\n"
     ]
    }
   ],
   "source": [
    "# Figure 4: Creating a horizontal bar using *\n",
    "\n",
    "horiz_bar = 15 * \"-\"\n",
    "print(\"horiz_bar\", horiz_bar)"
   ]
  },
  {
   "cell_type": "code",
   "execution_count": 5,
   "metadata": {},
   "outputs": [
    {
     "name": "stdout",
     "output_type": "stream",
     "text": [
      "++++++++++++++++++++\n",
      "+++++   pyuvm   ++++\n",
      "++++++++++++++++++++\n"
     ]
    }
   ],
   "source": [
    "# Figure 5: Embedding a word in a header\n",
    "\n",
    "width = 20\n",
    "word = \"pyuvm\"\n",
    "word_len = len(word)\n",
    "plus_around_word = width - word_len - 4\n",
    "left_plus = plus_around_word / 2\n",
    "if left_plus.is_integer():\n",
    "    right_plus = left_plus\n",
    "else:\n",
    "    left_plus = int(left_plus)\n",
    "    right_plus = left_plus - 1\n",
    "print(\"+\" * width)\n",
    "print(\"+\" * left_plus, f\"  {word}  \", \"+\" * right_plus)\n",
    "print(\"+\" * width)"
   ]
  },
  {
   "cell_type": "markdown",
   "metadata": {},
   "source": [
    "### Index into a sequence"
   ]
  },
  {
   "cell_type": "code",
   "execution_count": 6,
   "metadata": {},
   "outputs": [
    {
     "name": "stdout",
     "output_type": "stream",
     "text": [
      "\"abcdef\"[2]: c\n",
      "RayList[3]:  d\n",
      "   id(RayList: 140680335012288\n",
      "id(RayList[3]: 140680580857520\n"
     ]
    }
   ],
   "source": [
    "# Figure 6: Slicing a single element\n",
    "\n",
    "print('\"abcdef\"[2]:',\"abcdef\"[2])\n",
    "RayList = list(\"abcdef\")\n",
    "print(\"RayList[3]: \",RayList[3])\n",
    "print(\"   id(RayList:\", id(RayList))\n",
    "print(\"id(RayList[3]:\", id(RayList[3]))"
   ]
  },
  {
   "cell_type": "markdown",
   "metadata": {},
   "source": [
    "# Create a two dimensional \"array\""
   ]
  },
  {
   "cell_type": "code",
   "execution_count": 7,
   "metadata": {},
   "outputs": [
    {
     "name": "stdout",
     "output_type": "stream",
     "text": [
      "XYZ\n",
      "abc at [0][2] = Z\n"
     ]
    }
   ],
   "source": [
    "# Figure 7: Using a list of lists to emulate a 2d array.\n",
    "\n",
    "\"\"\"\n",
    "           0    1    2\n",
    "        0 \"X\", \"Y\", \"Z\"\n",
    "        1 \"a\", \"b\", \"c\"\n",
    "\"\"\"\n",
    "TwoDim=[[\"X\",\"Y\",\"Z\"],[\"a\",\"b\",\"c\"]]\n",
    "print(\"XYZ\\nabc at [0][2] =\", TwoDim[0][2])"
   ]
  },
  {
   "cell_type": "markdown",
   "metadata": {},
   "source": [
    "## Create a new sequence from an existing sequence using a slice"
   ]
  },
  {
   "cell_type": "code",
   "execution_count": 8,
   "metadata": {},
   "outputs": [
    {
     "name": "stdout",
     "output_type": "stream",
     "text": [
      "'abcdefghi'[1:5] =  bcde\n"
     ]
    }
   ],
   "source": [
    "# Figure 8: Slicing more than one element\n",
    "\n",
    "letters =\"abcdefghi\"\n",
    "print(\"'abcdefghi'[1:5] = \", letters[1:5])"
   ]
  },
  {
   "cell_type": "markdown",
   "metadata": {},
   "source": [
    "## Access a range of sequence objects using a step greater than one"
   ]
  },
  {
   "cell_type": "code",
   "execution_count": 9,
   "metadata": {},
   "outputs": [
    {
     "name": "stdout",
     "output_type": "stream",
     "text": [
      "first10[0:9:2] =  [0, 2, 4, 6, 8]\n"
     ]
    }
   ],
   "source": [
    "# Figure 9: Slicing with a step greater than 1\n",
    "\n",
    "first10 = list(range(11))\n",
    "print(\"first10[0:9:2] = \",first10[0:9:2])"
   ]
  },
  {
   "cell_type": "markdown",
   "metadata": {},
   "source": [
    "## Find the maximum and minimum objects in a sequence"
   ]
  },
  {
   "cell_type": "code",
   "execution_count": 10,
   "metadata": {},
   "outputs": [
    {
     "name": "stdout",
     "output_type": "stream",
     "text": [
      "max letter: e\n",
      "max letter with casefold: F\n",
      "min letter: B\n",
      "min letter with casefold: a\n"
     ]
    }
   ],
   "source": [
    "# Figure 10: Using max() and min()\n",
    "\n",
    "letters = \"aBcDeF\"\n",
    "print(\"max letter:\", max(letters))\n",
    "print(\"max letter with casefold:\", max(letters, key=str.casefold))\n",
    "print(\"min letter:\", min(letters))\n",
    "print(\"min letter with casefold:\", min(letters, key=str.casefold))"
   ]
  },
  {
   "cell_type": "markdown",
   "metadata": {},
   "source": [
    "## Find the index of values in a sequence"
   ]
  },
  {
   "cell_type": "code",
   "execution_count": 11,
   "metadata": {},
   "outputs": [
    {
     "name": "stdout",
     "output_type": "stream",
     "text": [
      "index of first s: 2\n",
      "index of first s after 3: 5\n",
      "index of first s between 5 and 7: 5\n"
     ]
    }
   ],
   "source": [
    "# Figure 11: Finding a value using index()\n",
    "\n",
    "#      0123456789A <-- Indices  msg[0] == \"M\"\n",
    "msg = \"Mississippi\"\n",
    "print(\"index of first s:\", msg.index('s'))\n",
    "\n",
    "# Figure 12: Finding the first \"s\" starting at 4\n",
    "\n",
    "print(\"index of first s after 3:\",msg.index('s',4))\n",
    "\n",
    "# Figure 13: Finding the first s in a range\n",
    "\n",
    "print(\"index of first s between 5 and 7:\", msg.index('s',5,8))"
   ]
  },
  {
   "cell_type": "markdown",
   "metadata": {},
   "source": [
    "## Count the number of values in a sequence"
   ]
  },
  {
   "cell_type": "code",
   "execution_count": 12,
   "metadata": {},
   "outputs": [
    {
     "name": "stdout",
     "output_type": "stream",
     "text": [
      "s's in Mississippi: 4\n",
      "q's in Mississippi: 0\n"
     ]
    }
   ],
   "source": [
    "# Figure 14: Counting values\n",
    " \n",
    "print(\"s's in Mississippi:\", \"Mississippi\".count('s'))\n",
    "print(\"q's in Mississippi:\", \"Mississippi\".count('q'))"
   ]
  },
  {
   "cell_type": "code",
   "execution_count": null,
   "metadata": {},
   "outputs": [],
   "source": []
  }
 ],
 "metadata": {
  "kernelspec": {
   "display_name": "Python 3 (ipykernel)",
   "language": "python",
   "name": "python3"
  },
  "language_info": {
   "codemirror_mode": {
    "name": "ipython",
    "version": 3
   },
   "file_extension": ".py",
   "mimetype": "text/x-python",
   "name": "python",
   "nbconvert_exporter": "python",
   "pygments_lexer": "ipython3",
   "version": "3.8.12"
  }
 },
 "nbformat": 4,
 "nbformat_minor": 4
}
