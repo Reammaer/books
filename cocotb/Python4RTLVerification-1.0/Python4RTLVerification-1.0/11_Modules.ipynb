{
 "cells": [
  {
   "cell_type": "markdown",
   "metadata": {},
   "source": [
    "## Modules"
   ]
  },
  {
   "cell_type": "markdown",
   "metadata": {},
   "source": [
    "# A quick word about scopes"
   ]
  },
  {
   "cell_type": "code",
   "execution_count": 2,
   "metadata": {},
   "outputs": [
    {
     "name": "stdout",
     "output_type": "stream",
     "text": [
      "'aa' in dir(): True\n",
      "'bb' in dir(): True\n"
     ]
    }
   ],
   "source": [
    "# Figure 1: Using dir() to see defined variables in this scope\n",
    "\n",
    "aa = 5\n",
    "bb = None\n",
    "print(\"'aa' in dir():\", 'aa' in dir())\n",
    "print(\"'bb' in dir():\", 'bb' in dir())\n"
   ]
  },
  {
   "cell_type": "markdown",
   "metadata": {},
   "source": [
    "## Importing a module"
   ]
  },
  {
   "cell_type": "markdown",
   "metadata": {},
   "source": [
    "Importing a module and referencing an object in it"
   ]
  },
  {
   "cell_type": "code",
   "execution_count": 2,
   "metadata": {},
   "outputs": [
    {
     "name": "stdout",
     "output_type": "stream",
     "text": [
      "FIFO_DEBUG: 5\n"
     ]
    }
   ],
   "source": [
    "# Figure 2: Referencing from an imported module\n",
    "\n",
    "import pyuvm\n",
    "print(\"FIFO_DEBUG:\", pyuvm.FIFO_DEBUG)"
   ]
  },
  {
   "cell_type": "code",
   "execution_count": 14,
   "metadata": {},
   "outputs": [
    {
     "name": "stdout",
     "output_type": "stream",
     "text": [
      "FIFO_DEBUG in dir(): False\n"
     ]
    }
   ],
   "source": [
    "# Figure 3: Important a module does not affect scope members\n",
    "\n",
    "print(\"FIFO_DEBUG in dir():\", \"FIFO_DEBUG\" in dir())"
   ]
  },
  {
   "cell_type": "markdown",
   "metadata": {},
   "source": [
    "### Aliasing a module"
   ]
  },
  {
   "cell_type": "code",
   "execution_count": null,
   "metadata": {},
   "outputs": [
    {
     "name": "stdout",
     "output_type": "stream",
     "text": [
      "FIFO_DEBUG: 5\n"
     ]
    }
   ],
   "source": [
    "# Figure 4: Aliasing an import\n",
    "\n",
    "import pyuvm as p\n",
    "print(\"FIFO_DEBUG:\", p.FIFO_DEBUG)"
   ]
  },
  {
   "cell_type": "markdown",
   "metadata": {},
   "source": [
    "## Importing resourcesto our `dir()` list"
   ]
  },
  {
   "cell_type": "code",
   "execution_count": 17,
   "metadata": {},
   "outputs": [
    {
     "name": "stdout",
     "output_type": "stream",
     "text": [
      "FIFO_DEBUG in dir() True\n",
      "FIFO_DEBUG: 5\n"
     ]
    }
   ],
   "source": [
    "# Figure 5: Using from to add a variable to our scope\n",
    "\n",
    "from pyuvm import FIFO_DEBUG\n",
    "print(\"FIFO_DEBUG in dir()\", \"FIFO_DEBUG\" in dir())\n",
    "print(\"FIFO_DEBUG:\", FIFO_DEBUG)"
   ]
  },
  {
   "cell_type": "markdown",
   "metadata": {},
   "source": [
    "## Importing all resources in a module"
   ]
  },
  {
   "cell_type": "code",
   "execution_count": 3,
   "metadata": {},
   "outputs": [
    {
     "name": "stdout",
     "output_type": "stream",
     "text": [
      "uvm_object in dir() True\n"
     ]
    }
   ],
   "source": [
    "# Figure 6: Importing all resources to our scope\n",
    "\n",
    "from pyuvm import *\n",
    "print(\"uvm_object in dir()\", \"uvm_object\" in dir())\n"
   ]
  },
  {
   "cell_type": "markdown",
   "metadata": {},
   "source": [
    "## Finding modules"
   ]
  },
  {
   "cell_type": "code",
   "execution_count": 2,
   "metadata": {},
   "outputs": [
    {
     "name": "stdout",
     "output_type": "stream",
     "text": [
      "['/Users/raysalemi/repos/python4uvm_examples', '/Users/raysalemi/opt/anaconda3/lib/python38.zip', '/Users/raysalemi/opt/anaconda3/lib/python3.8', '/Users/raysalemi/opt/anaconda3/lib/python3.8/lib-dynload', '', '/Users/raysalemi/.local/lib/python3.8/site-packages', '/Users/raysalemi/opt/anaconda3/lib/python3.8/site-packages', '/Users/raysalemi/opt/anaconda3/lib/python3.8/site-packages/aeosa', '/Users/raysalemi/repos/pyuvm', '/Users/raysalemi/opt/anaconda3/lib/python3.8/site-packages/locket-0.2.1-py3.8.egg', '/Users/raysalemi/opt/anaconda3/lib/python3.8/site-packages/IPython/extensions', '/Users/raysalemi/.ipython']\n"
     ]
    }
   ],
   "source": [
    "# Figure 7: Viewing the system path\n",
    "\n",
    "import sys\n",
    "print(sys.path)"
   ]
  },
  {
   "cell_type": "code",
   "execution_count": null,
   "metadata": {},
   "outputs": [],
   "source": []
  }
 ],
 "metadata": {
  "kernelspec": {
   "display_name": "Python 3 (ipykernel)",
   "language": "python",
   "name": "python3"
  },
  "language_info": {
   "codemirror_mode": {
    "name": "ipython",
    "version": 3
   },
   "file_extension": ".py",
   "mimetype": "text/x-python",
   "name": "python",
   "nbconvert_exporter": "python",
   "pygments_lexer": "ipython3",
   "version": "3.8.12"
  }
 },
 "nbformat": 4,
 "nbformat_minor": 4
}
