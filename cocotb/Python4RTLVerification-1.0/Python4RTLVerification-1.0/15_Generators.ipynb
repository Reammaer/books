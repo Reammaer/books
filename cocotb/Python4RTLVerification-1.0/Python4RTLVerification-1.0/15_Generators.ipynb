{
 "cells": [
  {
   "cell_type": "markdown",
   "metadata": {},
   "source": [
    "## Generators"
   ]
  },
  {
   "cell_type": "code",
   "execution_count": 4,
   "metadata": {},
   "outputs": [
    {
     "name": "stdout",
     "output_type": "stream",
     "text": [
      "0 1 2 "
     ]
    }
   ],
   "source": [
    "# Figure 1: Creating our own range() function\n",
    "\n",
    "def my_range(nn):\n",
    "    counter = 0\n",
    "    while counter < nn:\n",
    "        yield counter\n",
    "        counter += 1\n",
    "\n",
    "for ii in my_range(3):\n",
    "    print(ii, end=\" \")"
   ]
  },
  {
   "cell_type": "markdown",
   "metadata": {},
   "source": [
    "Fibonacci!"
   ]
  },
  {
   "cell_type": "code",
   "execution_count": 5,
   "metadata": {},
   "outputs": [
    {
     "name": "stdout",
     "output_type": "stream",
     "text": [
      "0 1 1 2 3 5 8 13 "
     ]
    }
   ],
   "source": [
    "# Figure 2: A Fibonacci generator that returns Fibonacci numbers\n",
    "\n",
    "def Fibonacci(nn):\n",
    "    yield 0\n",
    "    counter = 1\n",
    "    lastnumb  = 0\n",
    "    numb = 1\n",
    "    while counter < nn:\n",
    "        yield numb\n",
    "        newnumb = numb + lastnumb\n",
    "        lastnumb = numb\n",
    "        numb = newnumb\n",
    "        counter +=1\n",
    "\n",
    "for ii in Fibonacci(8):\n",
    "    print(ii, end=\" \")"
   ]
  }
 ],
 "metadata": {
  "kernelspec": {
   "display_name": "Python 3 (ipykernel)",
   "language": "python",
   "name": "python3"
  },
  "language_info": {
   "codemirror_mode": {
    "name": "ipython",
    "version": 3
   },
   "file_extension": ".py",
   "mimetype": "text/x-python",
   "name": "python",
   "nbconvert_exporter": "python",
   "pygments_lexer": "ipython3",
   "version": "3.8.12"
  }
 },
 "nbformat": 4,
 "nbformat_minor": 4
}
