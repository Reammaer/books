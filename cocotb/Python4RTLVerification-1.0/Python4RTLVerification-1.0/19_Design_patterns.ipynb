{
 "cells": [
  {
   "cell_type": "markdown",
   "metadata": {},
   "source": [
    "# Design patterns"
   ]
  },
  {
   "cell_type": "markdown",
   "metadata": {},
   "source": [
    "## The singleton pattern"
   ]
  },
  {
   "cell_type": "code",
   "execution_count": 8,
   "metadata": {},
   "outputs": [
    {
     "name": "stdout",
     "output_type": "stream",
     "text": [
      "id(nc1): 140521409835360\n",
      "id(nc2): 140521409835408\n"
     ]
    }
   ],
   "source": [
    "# Figure 1: Calling a class object using ()\n",
    " \n",
    "class MyClass:\n",
    "    ...\n",
    "\n",
    "nc1 = MyClass()\n",
    "nc2 = MyClass()\n",
    "print(\"id(nc1):\", id(nc1))\n",
    "print(\"id(nc2):\", id(nc2))"
   ]
  },
  {
   "cell_type": "code",
   "execution_count": 9,
   "metadata": {},
   "outputs": [
    {
     "name": "stdout",
     "output_type": "stream",
     "text": [
      "id(ms1): 140521409835696\n",
      "id(ms2): 140521409835696\n"
     ]
    }
   ],
   "source": [
    "# Figure 2: The singleton returns the same object for every call\n",
    "\n",
    "from pyuvm import Singleton\n",
    "\n",
    "class MySingleton(metaclass=Singleton):\n",
    "    ...\n",
    "\n",
    "ms1 = MySingleton()\n",
    "ms2 = MySingleton()\n",
    "print(\"id(ms1):\", id(ms1))\n",
    "print(\"id(ms2):\", id(ms2))"
   ]
  },
  {
   "cell_type": "markdown",
   "metadata": {},
   "source": [
    "## The factory pattern"
   ]
  },
  {
   "cell_type": "code",
   "execution_count": 12,
   "metadata": {},
   "outputs": [
    {
     "name": "stdout",
     "output_type": "stream",
     "text": [
      "Zzzap!\n",
      "Pew! Pew!\n",
      "Zzzap!\n",
      "WHOOSH BOOM!\n",
      "Zzzap!\n",
      "Zzzap!\n"
     ]
    }
   ],
   "source": [
    "# Figure 3: Creating a list of classes to use as a factory\n",
    "\n",
    "import random\n",
    "\n",
    "class Weapon:\n",
    "    def sound_effect(self):\n",
    "        print(self.sound)\n",
    "\n",
    "class Phaser(Weapon):\n",
    "    def __init__(self):\n",
    "        self.sound = \"Zzzap!\"\n",
    "\n",
    "class PhotonTorpedo(Weapon):\n",
    "    def __init__(self):\n",
    "        self.sound = \"Pew! Pew!\"\n",
    "\n",
    "class GiantRedBall(Weapon):\n",
    "    def __init__(self):\n",
    "        self.sound = \"WHOOSH BOOM!\"\n",
    "        \n",
    "factory_list=[Phaser, PhotonTorpedo, GiantRedBall]\n",
    "\n",
    "# Figure 4: Testing the factory list by calling the class in the list\n",
    "\n",
    "for _ in range(6):\n",
    "    weapon_no = random.randint(0,2)\n",
    "    weapon_cls = factory_list[weapon_no]\n",
    "    weapon = weapon_cls()\n",
    "    weapon.sound_effect()"
   ]
  }
 ],
 "metadata": {
  "kernelspec": {
   "display_name": "Python 3 (ipykernel)",
   "language": "python",
   "name": "python3"
  },
  "language_info": {
   "codemirror_mode": {
    "name": "ipython",
    "version": 3
   },
   "file_extension": ".py",
   "mimetype": "text/x-python",
   "name": "python",
   "nbconvert_exporter": "python",
   "pygments_lexer": "ipython3",
   "version": "3.8.12"
  }
 },
 "nbformat": 4,
 "nbformat_minor": 4
}
